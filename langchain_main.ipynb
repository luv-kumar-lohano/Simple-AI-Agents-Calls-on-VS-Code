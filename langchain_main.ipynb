{
 "cells": [
  {
   "cell_type": "markdown",
   "id": "title-intro",
   "metadata": {},
   "source": [
    "# How to make Gemini API Calls via LangChain (For Free)\n",
    "\n",
    "A minimal, clean example for calling Gemini models through LangChain using a free API key from Google AI Studio."
   ]
  },
  {
   "cell_type": "code",
   "execution_count": null,
   "id": "install",
   "metadata": {},
   "outputs": [],
   "source": [
    "# Install dependencies (run it once per environment) (After installing, you may need to restart the kernel)\n",
    "!pip install langchain-google-genai python-dotenv"
   ]
  },
  {
   "cell_type": "code",
   "execution_count": null,
   "id": "setup-llm",
   "metadata": {},
   "outputs": [],
   "source": [
    "# Load API key and create the LangChain LLM client\n",
    "import os\n",
    "from dotenv import load_dotenv  # Free Gemini API Keys on Google AI Studio\n",
    "from langchain_google_genai import ChatGoogleGenerativeAI\n",
    "\n",
    "load_dotenv()\n",
    "api_key = os.getenv(\"GOOGLE_API_KEY\")\n",
    "if not api_key:\n",
    "    raise ValueError(\"Set GOOGLE_API_KEY in your .env file and rerun this cell.\")"
   ]
  },
  {
   "cell_type": "code",
   "execution_count": null,
   "id": "17c4097d",
   "metadata": {},
   "outputs": [],
   "source": [
    "model_name = \"gemini-1.5-flash\"  ## Or your preferred model (list of models can be found out through the code in last cell)\n",
    "llm = ChatGoogleGenerativeAI(model=model_name, google_api_key=api_key)"
   ]
  },
  {
   "cell_type": "code",
   "execution_count": null,
   "id": "quick-call",
   "metadata": {},
   "outputs": [],
   "source": [
    "# Quick call\n",
    "prompt = \"Tell a joke about Autonomous AI Agents\"\n",
    "result = llm.invoke(prompt)\n",
    "print(result.content if hasattr(result, \"content\") else result)"
   ]
  },
  {
   "cell_type": "markdown",
   "id": "list-models-header",
   "metadata": {},
   "source": [
    "## List Available Models (Optional)\n",
    "Uses the REST API to enumerate models available to your key."
   ]
  },
  {
   "cell_type": "code",
   "execution_count": null,
   "id": "list-models",
   "metadata": {},
   "outputs": [],
   "source": [
    "import os, json, requests\n",
    "from dotenv import load_dotenv\n",
    "\n",
    "load_dotenv()\n",
    "api_key = os.getenv(\"GOOGLE_API_KEY\")\n",
    "if not api_key:\n",
    "    raise ValueError(\"No API key found. Put your API key in a .env file as GOOGLE_API_KEY and rerun this cell.\")\n",
    "\n",
    "url = \"https://generativelanguage.googleapis.com/v1/models\"\n",
    "resp = requests.get(url, params={\"key\": api_key})\n",
    "resp.raise_for_status()\n",
    "\n",
    "data = resp.json()\n",
    "models = data.get(\"models\", data)\n",
    "print(json.dumps(models, indent=2))\n"
   ]
  },
  {
   "cell_type": "markdown",
   "id": "troubleshooting",
   "metadata": {},
   "source": [
    "## Troubleshooting\n",
    "- Ensure `.env` contains `GOOGLE_API_KEY`.\n",
    "- If `pip install` was just run, restart the kernel.\n",
    "- Check model name spelling if you get a 404 or invalid model errors.\n"
   ]
  }
 ],
 "metadata": {
  "kernelspec": {
   "display_name": "Python 3",
   "language": "python",
   "name": "python3"
  },
  "language_info": {
   "codemirror_mode": {
    "name": "ipython",
    "version": 3
   },
   "file_extension": ".py",
   "mimetype": "text/x-python",
   "name": "python",
   "nbconvert_exporter": "python",
   "pygments_lexer": "ipython3",
   "version": "3.12.9"
  }
 },
 "nbformat": 4,
 "nbformat_minor": 5
}
